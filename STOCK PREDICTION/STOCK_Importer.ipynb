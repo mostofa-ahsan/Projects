{
 "cells": [
  {
   "cell_type": "code",
   "execution_count": 9,
   "metadata": {},
   "outputs": [
    {
     "name": "stdout",
     "output_type": "stream",
     "text": [
      "                  High         Low        Open       Close      Volume  \\\n",
      "Date                                                                     \n",
      "2020-01-07  300.899994  297.480011  299.839996  298.390015  27218000.0   \n",
      "2020-01-08  304.440002  297.160004  297.160004  303.190002  33019800.0   \n",
      "2020-01-09  310.429993  306.200012  307.239990  309.630005  42527100.0   \n",
      "2020-01-10  312.670013  308.250000  310.600006  310.329987  35161200.0   \n",
      "2020-01-13  315.959991  311.149994  311.640015  315.855408  25400320.0   \n",
      "\n",
      "             Adj Close       dates  \n",
      "Date                                \n",
      "2020-01-07  298.390015  2020-01-07  \n",
      "2020-01-08  303.190002  2020-01-08  \n",
      "2020-01-09  309.630005  2020-01-09  \n",
      "2020-01-10  310.329987  2020-01-10  \n",
      "2020-01-13  315.855408  2020-01-13  \n",
      "(2020, 7)\n"
     ]
    }
   ],
   "source": [
    "import datetime as dt\n",
    "import matplotlib.pyplot as plt\n",
    "from matplotlib import style\n",
    "import pandas as pd\n",
    "# Allows for pandas_datareader to be imported\n",
    "# the import in the FredReader uses the wrong import change it to as below\n",
    "# Moreover, you can go to FredReader file and change it but this way is easy\n",
    "pd.core.common.is_list_like = pd.api.types.is_list_like\n",
    "import pandas_datareader.data as web\n",
    "\n",
    "# END IMPORTS\n",
    "\n",
    "style.use('ggplot')\n",
    "\n",
    "# The range of the dataset\n",
    "start = dt.datetime(2012, 1, 1)\n",
    "end = dt.datetime.now()\n",
    "\n",
    "df = web.DataReader('AAPL', 'yahoo', start, end)\n",
    "# df.reset_index(inplace=True)\n",
    "# df.set_index(\"Date\", inplace=True)\n",
    "# df = df.drop(\"Symbol\", axis=1)\n",
    "# df.reset_index(inplace=True)\n",
    "# df.drop(['interpolated', 'session'], axis=1, inplace=True) # 'Symbol' can be dropped if needed\n",
    "# df.rename(index=str, columns={'close_price': 'Close',\n",
    "#                               'high_price': 'High',\n",
    "#                               'low_price': 'Low',\n",
    "#                               'open_price': 'Open',\n",
    "#                               'volume': 'Volume',\n",
    "#                               'begins_at': 'Date'}, inplace=True)\n",
    "# df.set_index('Date', inplace=True)\n",
    "\n",
    "# head(first 5 entries) or tail(last 5 entries) can be used\n",
    "dates =[]\n",
    "for x in range(len(df)):\n",
    "    newdate = str(df.index[x])\n",
    "    newdate = newdate[0:10]\n",
    "    dates.append(newdate)\n",
    "\n",
    "df['dates'] = dates\n",
    "\n",
    "# print df.head()\n",
    "# print df.tail()\n",
    "\n",
    "print(df.tail())\n",
    "print(df.shape)"
   ]
  }
 ],
 "metadata": {
  "kernelspec": {
   "display_name": "RTX-2070",
   "language": "python",
   "name": "rtx-2070"
  },
  "language_info": {
   "codemirror_mode": {
    "name": "ipython",
    "version": 3
   },
   "file_extension": ".py",
   "mimetype": "text/x-python",
   "name": "python",
   "nbconvert_exporter": "python",
   "pygments_lexer": "ipython3",
   "version": "3.7.6"
  }
 },
 "nbformat": 4,
 "nbformat_minor": 2
}
